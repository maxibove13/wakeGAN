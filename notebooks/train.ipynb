{
 "cells": [
  {
   "attachments": {},
   "cell_type": "markdown",
   "metadata": {},
   "source": [
    "### import modules"
   ]
  },
  {
   "cell_type": "code",
   "execution_count": null,
   "metadata": {},
   "outputs": [],
   "source": [
    "import logging\n",
    "import os\n",
    "import time\n",
    "\n",
    "from pytorch_lightning.callbacks import ModelCheckpoint, BatchSizeFinder\n",
    "from pytorch_lightning.loggers import NeptuneLogger, TensorBoardLogger\n",
    "import neptune.new as neptune\n",
    "import pytorch_lightning as pl\n",
    "import torch\n",
    "from pytorch_lightning.callbacks import RichProgressBar\n",
    "import yaml\n",
    "\n",
    "from src.data import dataset\n",
    "from src.utils import callbacks\n",
    "from src.wakegan import WakeGAN\n",
    "\n",
    "torch.set_float32_matmul_precision(\"medium\")"
   ]
  },
  {
   "attachments": {},
   "cell_type": "markdown",
   "metadata": {},
   "source": [
    "### import config file"
   ]
  },
  {
   "cell_type": "code",
   "execution_count": null,
   "metadata": {},
   "outputs": [],
   "source": [
    "with open(\"config.yaml\") as file:\n",
    "    config = yaml.safe_load(file)"
   ]
  },
  {
   "attachments": {},
   "cell_type": "markdown",
   "metadata": {},
   "source": [
    "### initialize neptune client"
   ]
  },
  {
   "cell_type": "code",
   "execution_count": null,
   "metadata": {},
   "outputs": [],
   "source": [
    "neptune_logger = None\n",
    "if config[\"ops\"][\"neptune_logger\"]:\n",
    "    neptune_logger = NeptuneLogger(\n",
    "        project=\"idatha/wakegan\",\n",
    "        api_key=\"eyJhcGlfYWRkcmVzcyI6Imh0dHBzOi8vYXBwLm5lcHR1bmUuYWkiLCJhcGlfdXJsIjoiaHR0cHM6Ly9hcHAubmVwdHVuZS5haSIsImFwaV9rZXkiOiIyNWQ5YjJjZi05OTE1LTRhNWEtODdlZC00MWRlMzMzNGMwMzYifQ==\",\n",
    "        log_model_checkpoints=False,\n",
    "    )"
   ]
  },
  {
   "attachments": {},
   "cell_type": "markdown",
   "metadata": {},
   "source": [
    "### add config content as hyperparameters in neptune"
   ]
  },
  {
   "cell_type": "code",
   "execution_count": null,
   "metadata": {},
   "outputs": [],
   "source": [
    "if config[\"ops\"][\"neptune_logger\"]:\n",
    "    neptune_logger.log_hyperparams(params=config)"
   ]
  },
  {
   "attachments": {},
   "cell_type": "markdown",
   "metadata": {},
   "source": [
    "### config custom loggers"
   ]
  },
  {
   "cell_type": "code",
   "execution_count": null,
   "metadata": {},
   "outputs": [],
   "source": [
    "tb_logger = TensorBoardLogger(save_dir=\"logs/\")\n",
    "if \"logs\" not in os.listdir(\".\"):\n",
    "    os.mkdir(\"logs\")\n",
    "logging.basicConfig(\n",
    "    format=\"%(message)s\",\n",
    "    filename=os.path.join(\"logs\", \"train.log\"),\n",
    "    level=logging.INFO,\n",
    "    filemode=\"w\",\n",
    ")\n",
    "logger = logging.getLogger(\"train\")\n",
    "loggers = (\n",
    "    [tb_logger, neptune_logger] if config[\"ops\"][\"neptune_logger\"] else [tb_logger]\n",
    ")"
   ]
  },
  {
   "attachments": {},
   "cell_type": "markdown",
   "metadata": {},
   "source": [
    "### configure checkpoint model saving"
   ]
  },
  {
   "cell_type": "code",
   "execution_count": null,
   "metadata": {},
   "outputs": [],
   "source": [
    "checkpoint_callback = ModelCheckpoint(\n",
    "    dirpath=None,\n",
    "    save_top_k=1,\n",
    "    monitor=\"rmse_val_epoch\",\n",
    "    mode=\"min\",\n",
    "    filename=\"wakegan-{epoch}-{rmse_val_epoch:.2f}\",\n",
    ")"
   ]
  },
  {
   "attachments": {},
   "cell_type": "markdown",
   "metadata": {},
   "source": [
    "### initialize training dataset"
   ]
  },
  {
   "cell_type": "code",
   "execution_count": null,
   "metadata": {},
   "outputs": [],
   "source": [
    "dataset_train = dataset.WakeGANDataset(\n",
    "    data_dir=os.path.join(\"data\", \"preprocessed\", \"tracked\", \"train\"),\n",
    "    config=config[\"data\"],\n",
    "    dataset_type=\"train\",\n",
    "    save_norm_params=True if config[\"models\"][\"save\"] else False,\n",
    ")\n",
    "datamodule = dataset.WakeGANDataModule(config)"
   ]
  },
  {
   "attachments": {},
   "cell_type": "markdown",
   "metadata": {},
   "source": [
    "### initialize model"
   ]
  },
  {
   "cell_type": "code",
   "execution_count": null,
   "metadata": {},
   "outputs": [],
   "source": [
    "model = WakeGAN(config, dataset_train.norm_params)"
   ]
  },
  {
   "attachments": {},
   "cell_type": "markdown",
   "metadata": {},
   "source": [
    "### initialize trainer"
   ]
  },
  {
   "cell_type": "code",
   "execution_count": null,
   "metadata": {},
   "outputs": [],
   "source": [
    "trainer = pl.Trainer(\n",
    "    default_root_dir=\"logs\",\n",
    "    accelerator=\"gpu\",\n",
    "    devices=1,\n",
    "    log_every_n_steps=1,\n",
    "    max_epochs=config[\"train\"][\"num_epochs\"],\n",
    "    logger=loggers,\n",
    "    deterministic=True,\n",
    "    callbacks=[\n",
    "        callbacks.LoggingCallback(logger),\n",
    "        callbacks.PlottingCallback(enable_logger=config[\"ops\"][\"neptune_logger\"]),\n",
    "        checkpoint_callback,\n",
    "        RichProgressBar()\n",
    "    ],\n",
    ")"
   ]
  },
  {
   "attachments": {},
   "cell_type": "markdown",
   "metadata": {},
   "source": [
    "### fit model"
   ]
  },
  {
   "cell_type": "code",
   "execution_count": null,
   "metadata": {},
   "outputs": [],
   "source": [
    "trainer.fit(model, datamodule)"
   ]
  },
  {
   "attachments": {},
   "cell_type": "markdown",
   "metadata": {},
   "source": [
    "### save new model version (best checkpoint) to neptune"
   ]
  },
  {
   "cell_type": "code",
   "execution_count": null,
   "metadata": {},
   "outputs": [],
   "source": [
    "if config[\"ops\"][\"neptune_logger\"] and config[\"models\"][\"save\"]:\n",
    "    logger.info(\"Saving model in neptune\")\n",
    "\n",
    "    model_version = neptune.init_model_version(\n",
    "        model=\"WAK-MOD\",\n",
    "        project=\"idatha/wakegan\",\n",
    "        api_token=\"eyJhcGlfYWRkcmVzcyI6Imh0dHBzOi8vYXBwLm5lcHR1bmUuYWkiLCJhcGlfdXJsIjoiaHR0cHM6Ly9hcHAubmVwdHVuZS5haSIsImFwaV9rZXkiOiIyNWQ5YjJjZi05OTE1LTRhNWEtODdlZC00MWRlMzMzNGMwMzYifQ==\",  # your credentials\n",
    "    )\n",
    "    path_to_model = trainer.checkpoint_callback.best_model_path\n",
    "    model_version[\"model/ckpt\"].upload(path_to_model)\n",
    "    model_version[\"model/dataset/training\"].track_files(\n",
    "        os.path.join(\"data\", \"preprocessed\", \"tracked\", \"train\", \"ux\")\n",
    "    )\n",
    "    model_version[\"model/dataset/validation\"].track_files(\n",
    "        os.path.join(\"data\", \"preprocessed\", \"tracked\", \"val\", \"ux\")\n",
    "    )\n",
    "    model_version[\"model/dataset/testing\"].track_files(\n",
    "        os.path.join(\"data\", \"preprocessed\", \"tracked\", \"test\", \"ux\")\n",
    "    )\n",
    "    model_version[\"model/run\"] = neptune_logger.run[\"sys/id\"].fetch()\n",
    "    model_version.change_stage(\"staging\")"
   ]
  },
  {
   "attachments": {},
   "cell_type": "markdown",
   "metadata": {},
   "source": [
    "### stop run"
   ]
  },
  {
   "cell_type": "code",
   "execution_count": null,
   "metadata": {},
   "outputs": [],
   "source": [
    "neptune_logger.run.stop()"
   ]
  }
 ],
 "metadata": {
  "kernelspec": {
   "display_name": ".venv_wakegan",
   "language": "python",
   "name": "python3"
  },
  "language_info": {
   "codemirror_mode": {
    "name": "ipython",
    "version": 3
   },
   "file_extension": ".py",
   "mimetype": "text/x-python",
   "name": "python",
   "nbconvert_exporter": "python",
   "pygments_lexer": "ipython3",
   "version": "3.10.6 (main, Nov 14 2022, 16:10:14) [GCC 11.3.0]"
  },
  "orig_nbformat": 4,
  "vscode": {
   "interpreter": {
    "hash": "e95fdbd9e48422759f48be43fce7a3ef8b980f6105fc0b6a35602137e1eef081"
   }
  }
 },
 "nbformat": 4,
 "nbformat_minor": 2
}
