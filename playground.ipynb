{
 "cells": [
  {
   "cell_type": "code",
   "execution_count": 12,
   "metadata": {},
   "outputs": [],
   "source": [
    "import os\n",
    "import cv2\n",
    "\n",
    "import numpy as np\n",
    "\n",
    "image = np.array(cv2.imread(os.path.join('data', 'preprocessed', 'train', 'ux', 'n576n20_ux.png'), cv2.IMREAD_GRAYSCALE))"
   ]
  },
  {
   "cell_type": "code",
   "execution_count": 18,
   "metadata": {},
   "outputs": [
    {
     "data": {
      "text/plain": [
       "array([[221, 221, 221, ..., 236, 236, 236],\n",
       "       [224, 225, 225, ..., 236, 236, 236],\n",
       "       [226, 226, 226, ..., 239, 239, 239],\n",
       "       ...,\n",
       "       [214, 215, 215, ..., 233, 233, 233],\n",
       "       [211, 211, 211, ..., 233, 233, 234],\n",
       "       [208, 209, 209, ..., 231, 231, 231]], dtype=uint8)"
      ]
     },
     "execution_count": 18,
     "metadata": {},
     "output_type": "execute_result"
    }
   ],
   "source": [
    "image"
   ]
  }
 ],
 "metadata": {
  "kernelspec": {
   "display_name": "Python 3.8.10 ('.venv_zz': venv)",
   "language": "python",
   "name": "python3"
  },
  "language_info": {
   "codemirror_mode": {
    "name": "ipython",
    "version": 3
   },
   "file_extension": ".py",
   "mimetype": "text/x-python",
   "name": "python",
   "nbconvert_exporter": "python",
   "pygments_lexer": "ipython3",
   "version": "3.8.10"
  },
  "orig_nbformat": 4,
  "vscode": {
   "interpreter": {
    "hash": "9867b88634b47d21264057ad675dd5d8598034f6c079ce037cc1f3cc4899ef38"
   }
  }
 },
 "nbformat": 4,
 "nbformat_minor": 2
}
