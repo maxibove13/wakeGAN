{
 "cells": [
  {
   "cell_type": "markdown",
   "metadata": {},
   "source": []
  },
  {
   "cell_type": "markdown",
   "metadata": {},
   "source": [
    "## Get inflow Ux for all WF simulations"
   ]
  },
  {
   "cell_type": "code",
   "execution_count": 1,
   "metadata": {},
   "outputs": [],
   "source": [
    "# Built-in modules\n",
    "import csv\n",
    "import json\n",
    "import multiprocessing\n",
    "import os\n",
    "import time\n",
    "\n",
    "# Third-party modules\n",
    "import numpy as np\n",
    "from scipy.io import loadmat\n",
    "from matplotlib import cm, pyplot as plt\n",
    "from scipy.io import savemat\n",
    "import yaml\n",
    "\n",
    "# Local modules\n",
    "from src.data.caffa3dMBRi_gz_21_0009 import caffa3dMBRi_gz\n",
    "from src.data.make_dataset import get_image_from_simulation\n",
    "\n",
    "# Load config file\n",
    "with open('config.yaml') as file:\n",
    "    config = yaml.safe_load(file)\n",
    "\n",
    "# Load turns\n",
    "with open(os.path.join('data','aux', 'metadata','turns.json')) as f:\n",
    "    turns = json.load(f)\n",
    "# Load selected simulation time steps for temporal window in order to calculate UMean\n",
    "with open(os.path.join('data','aux', 'metadata','sim_steps.json')) as f:\n",
    "    t = json.load(f)"
   ]
  },
  {
   "cell_type": "markdown",
   "metadata": {},
   "source": [
    "#### get horizontal planes from all simulations"
   ]
  },
  {
   "cell_type": "code",
   "execution_count": 2,
   "metadata": {},
   "outputs": [],
   "source": [
    "inflow_ux = {}\n",
    "inflow_uy = {}\n",
    "\n",
    "# iterate over precursors\n",
    "for prec in config['data']['precs']:\n",
    "    # iterate over angles\n",
    "    for key, value in turns.items():\n",
    "        # define case name\n",
    "        case = f\"n{prec}{key}\"\n",
    "        # iterate over Ux and Uy\n",
    "        for comp, comp_names in enumerate(['Ux', 'Uy']):\n",
    "            image, _, grid_x , grid_y = get_image_from_simulation(\n",
    "                case,\n",
    "                config['data']['z'],\n",
    "                t[prec],\n",
    "                'UMean',\n",
    "                comp\n",
    "                )\n",
    "            # get inflow wind profile\n",
    "            if comp_names == 'Ux':\n",
    "                inflow_ux[case] = image[:, 0]\n",
    "            elif comp_names == 'Uy':\n",
    "                inflow_uy[case] = image[:, 0]\n",
    "        break\n",
    "    break"
   ]
  },
  {
   "cell_type": "code",
   "execution_count": null,
   "metadata": {},
   "outputs": [],
   "source": [
    "position_y = {'pos_y': grid_y[:, 0]}\n",
    "\n",
    "np.save(\n",
    "    os.path.join('data','aux','position_y.npy'), \n",
    "    position_y\n",
    "    )"
   ]
  },
  {
   "cell_type": "code",
   "execution_count": 12,
   "metadata": {},
   "outputs": [
    {
     "data": {
      "text/plain": [
       "126.0"
      ]
     },
     "execution_count": 12,
     "metadata": {},
     "output_type": "execute_result"
    }
   ],
   "source": [
    "# diameter\n",
    "coord_layout = loadmat('data/aux/metadata/coord_layout.mat')\n",
    "coord_layout['coord_layout'][0, 3, 0]"
   ]
  },
  {
   "cell_type": "code",
   "execution_count": null,
   "metadata": {},
   "outputs": [],
   "source": [
    "osition_y =loadmat('position_y_1.mat')"
   ]
  },
  {
   "cell_type": "code",
   "execution_count": null,
   "metadata": {},
   "outputs": [],
   "source": [
    "position_y['pos_y']"
   ]
  },
  {
   "cell_type": "code",
   "execution_count": null,
   "metadata": {},
   "outputs": [],
   "source": [
    "from scipy.io import savemat\n",
    "\n",
    "savemat(\"inflow_ux.mat\", inflow_ux)\n",
    "savemat(\"inflow_uy.mat\", inflow_ux)"
   ]
  },
  {
   "cell_type": "code",
   "execution_count": null,
   "metadata": {},
   "outputs": [],
   "source": [
    "inflow_uy['n864pr']"
   ]
  },
  {
   "cell_type": "markdown",
   "metadata": {},
   "source": [
    "#### plot wind profiles"
   ]
  },
  {
   "cell_type": "code",
   "execution_count": null,
   "metadata": {},
   "outputs": [],
   "source": [
    "y = np.arange(0, inflow_ux[case].shape[0])\n",
    "\n",
    "for c, inflow in zip(['x','y'], [inflow_ux, inflow_uy]):\n",
    "    fig, ax = plt.subplots(1,1)\n",
    "\n",
    "    for i, case in enumerate(inflow_uy.keys()):\n",
    "        ax.plot(inflow[case], y, c=f'C{i}')\n",
    "        ax.grid()\n",
    "\n",
    "\n",
    "    ax.set_xlabel('$ms^{-1}$')\n",
    "    ax.set_ylabel('cell points')\n",
    "    ax.set_title(f'Inflow velocity ($U_{c}$)')\n",
    "\n",
    "    fig.savefig(os.path.join('figures', f'inflow_u{c}.png'), facecolor='white', transparent=False, bbox_inches='tight', dpi=300)"
   ]
  },
  {
   "cell_type": "code",
   "execution_count": 40,
   "metadata": {},
   "outputs": [
    {
     "data": {
      "text/plain": [
       "<matplotlib.colorbar.Colorbar at 0x7fbf98554f70>"
      ]
     },
     "execution_count": 40,
     "metadata": {},
     "output_type": "execute_result"
    },
    {
     "data": {
      "image/png": "[encoded data removed]",
      "text/plain": [
       "<Figure size 640x480 with 2 Axes>"
      ]
     },
     "metadata": {},
     "output_type": "display_data"
    }
   ],
   "source": [
    "from torchvision import io\n",
    "from torch import load\n",
    "from matplotlib import pyplot as plt\n",
    "\n",
    "wt_diam = 126\n",
    "lim_around_wt = [2,4,2,2]\n",
    "size = [44,44]\n",
    "    \n",
    "lims = [\n",
    "    -lim_around_wt[0],\n",
    "    +lim_around_wt[1],\n",
    "    -lim_around_wt[2],\n",
    "    +lim_around_wt[3],\n",
    "]\n",
    "\n",
    "path = 'data/generated/validation/real'\n",
    "\n",
    "image = load(os.path.join(path,'5.76_0.0_(1,2).pt')).cpu()\n",
    "plt.imshow(image, extent=lims, origin='lower')\n",
    "plt.colorbar()"
   ]
  },
  {
   "cell_type": "code",
   "execution_count": null,
   "metadata": {},
   "outputs": [],
   "source": []
  },
  {
   "cell_type": "code",
   "execution_count": 38,
   "metadata": {},
   "outputs": [
    {
     "data": {
      "image/png": "[encoded data removed]",
      "text/plain": [
       "<Figure size 640x480 with 1 Axes>"
      ]
     },
     "metadata": {},
     "output_type": "display_data"
    }
   ],
   "source": [
    "plt.plot(image[:, 0], y/wt_diam)\n",
    "plt.grid()"
   ]
  },
  {
   "cell_type": "code",
   "execution_count": 31,
   "metadata": {},
   "outputs": [
    {
     "data": {
      "text/plain": [
       "(0.0, 12.0)"
      ]
     },
     "execution_count": 31,
     "metadata": {},
     "output_type": "execute_result"
    },
    {
     "data": {
      "image/png": "[encoded data removed]",
      "text/plain": [
       "<Figure size 640x480 with 1 Axes>"
      ]
     },
     "metadata": {},
     "output_type": "display_data"
    }
   ],
   "source": [
    "import numpy as np\n",
    "\n",
    "plt.plot((image.squeeze()[:, 0]/255)*12, np.arange(44))\n",
    "plt.xlim(0, 12)"
   ]
  },
  {
   "cell_type": "code",
   "execution_count": 29,
   "metadata": {},
   "outputs": [],
   "source": [
    "import yaml\n",
    "import numpy as np\n",
    "\n",
    "wt_diam = 126\n",
    "lim_around_wt = [2,4,2,2]\n",
    "size = [44,44]\n",
    "    \n",
    "x = np.linspace(\n",
    "    -wt_diam * lim_around_wt[0],\n",
    "    +wt_diam * lim_around_wt[1],\n",
    ")\n",
    "y = np.linspace(\n",
    "    -wt_diam * lim_around_wt[2],\n",
    "    wt_diam * lim_around_wt[3],\n",
    "    num=size[0],\n",
    ")"
   ]
  },
  {
   "cell_type": "code",
   "execution_count": 13,
   "metadata": {},
   "outputs": [
    {
     "data": {
      "text/plain": [
       "(44,)"
      ]
     },
     "execution_count": 13,
     "metadata": {},
     "output_type": "execute_result"
    }
   ],
   "source": []
  }
 ],
 "metadata": {
  "kernelspec": {
   "display_name": ".venv_wakegan",
   "language": "python",
   "name": "python3"
  },
  "language_info": {
   "codemirror_mode": {
    "name": "ipython",
    "version": 3
   },
   "file_extension": ".py",
   "mimetype": "text/x-python",
   "name": "python",
   "nbconvert_exporter": "python",
   "pygments_lexer": "ipython3",
   "version": "3.10.6 (main, Nov 14 2022, 16:10:14) [GCC 11.3.0]"
  },
  "orig_nbformat": 4,
  "vscode": {
   "interpreter": {
    "hash": "e95fdbd9e48422759f48be43fce7a3ef8b980f6105fc0b6a35602137e1eef081"
   }
  }
 },
 "nbformat": 4,
 "nbformat_minor": 2
}
