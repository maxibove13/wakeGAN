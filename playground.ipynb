{
 "cells": [
  {
   "cell_type": "markdown",
   "metadata": {},
   "source": [
    "## Get inflow Ux for all WF simulations"
   ]
  },
  {
   "cell_type": "code",
   "execution_count": 1,
   "metadata": {},
   "outputs": [],
   "source": [
    "# Built-in modules\n",
    "import csv\n",
    "import json\n",
    "import multiprocessing\n",
    "import os\n",
    "import time\n",
    "\n",
    "# Third-party modules\n",
    "import numpy as np\n",
    "from scipy.io import loadmat\n",
    "from matplotlib import cm, pyplot as plt\n",
    "from scipy.io import savemat\n",
    "import yaml\n",
    "\n",
    "# Local modules\n",
    "from src.data.caffa3dMBRi_gz_21_0009 import caffa3dMBRi_gz\n",
    "from src.data.make_dataset import get_image_from_simulation\n",
    "\n",
    "# Load config file\n",
    "with open('config.yaml') as file:\n",
    "    config = yaml.safe_load(file)\n",
    "\n",
    "# Load turns\n",
    "with open(os.path.join('data','aux', 'metadata','turns.json')) as f:\n",
    "    turns = json.load(f)\n",
    "# Load selected simulation time steps for temporal window in order to calculate UMean\n",
    "with open(os.path.join('data','aux', 'metadata','sim_steps.json')) as f:\n",
    "    t = json.load(f)"
   ]
  },
  {
   "cell_type": "code",
   "execution_count": 2,
   "metadata": {},
   "outputs": [],
   "source": [
    "inflow_ux = {}\n",
    "inflow_uy = {}\n",
    "\n",
    "# iterate over precursors\n",
    "for prec in config['data']['precs']:\n",
    "    # iterate over angles\n",
    "    for key, value in turns.items():\n",
    "        # define case name\n",
    "        case = f\"n{prec}{key}\"\n",
    "        # iterate over Ux and Uy\n",
    "        for comp, comp_names in enumerate(['Ux', 'Uy']):\n",
    "            image, _, grid_x , grid_y = get_image_from_simulation(\n",
    "                case,\n",
    "                config['data']['z'],\n",
    "                t[prec],\n",
    "                'UMean',\n",
    "                comp\n",
    "                )\n",
    "            # get inflow wind profile\n",
    "            if comp_names == 'Ux':\n",
    "                inflow_ux[case] = image[:, 0]\n",
    "            elif comp_names == 'Uy':\n",
    "                inflow_uy[case] = image[:, 0]\n",
    "        break\n",
    "    break"
   ]
  },
  {
   "cell_type": "code",
   "execution_count": 9,
   "metadata": {},
   "outputs": [
    {
     "data": {
      "text/plain": [
       "0.0020339713490276773"
      ]
     },
     "execution_count": 9,
     "metadata": {},
     "output_type": "execute_result"
    }
   ],
   "source": [
    "image[0,2] - image[0, 1]"
   ]
  },
  {
   "cell_type": "code",
   "execution_count": 16,
   "metadata": {},
   "outputs": [],
   "source": [
    "coord_layout = loadmat(\n",
    "    os.path.join('data', 'aux', 'metadata','coord_layout.mat')\n",
    ")"
   ]
  },
  {
   "cell_type": "code",
   "execution_count": 34,
   "metadata": {},
   "outputs": [
    {
     "data": {
      "text/plain": [
       "array([[270., 270., 270., 270., 270., 270., 270.],\n",
       "       [270., 270., 270., 270., 270., 270., 270.],\n",
       "       [270., 270., 270., 270., 270., 270., 270.],\n",
       "       [270., 270., 270., 270., 270., 270., 270.],\n",
       "       [270., 270., 270., 270., 270., 270., 270.],\n",
       "       [270., 270., 270., 270., 270., 270., 270.],\n",
       "       [270., 270., 270., 270., 270., 270., 270.],\n",
       "       [270., 270., 270., 270., 270., 270., 270.],\n",
       "       [270., 270., 270., 270., 270., 270., 270.],\n",
       "       [270., 270., 270., 270., 270., 270., 270.],\n",
       "       [270., 270., 270., 270., 270., 270., 270.],\n",
       "       [270., 270., 270., 270., 270., 270., 270.],\n",
       "       [270., 270., 270., 270., 270., 270., 270.],\n",
       "       [270., 270., 270., 270., 270., 270., 270.],\n",
       "       [270., 270., 270., 270., 270., 270., 270.]])"
      ]
     },
     "execution_count": 34,
     "metadata": {},
     "output_type": "execute_result"
    }
   ],
   "source": [
    "coord_layout['coord_layout'][:, 4, :]"
   ]
  },
  {
   "cell_type": "code",
   "execution_count": null,
   "metadata": {},
   "outputs": [],
   "source": [
    "position_y = {'pos_y': grid_y[:, 0]}\n",
    "\n",
    "savemat(\"position_y.mat\", position_y)"
   ]
  },
  {
   "cell_type": "code",
   "execution_count": 37,
   "metadata": {},
   "outputs": [],
   "source": [
    "position_y =loadmat('position_y_1.mat')"
   ]
  },
  {
   "cell_type": "code",
   "execution_count": 38,
   "metadata": {},
   "outputs": [
    {
     "data": {
      "text/plain": [
       "array([[2250.      , 2243.9517  , 2231.855   , 2219.758   , 2207.6611  ,\n",
       "        2195.5645  , 2183.4678  , 2171.3708  , 2159.2742  , 2147.1772  ,\n",
       "        2135.0806  , 2122.984   , 2110.8872  , 2098.7903  , 2086.6936  ,\n",
       "        2074.5967  , 2062.5     , 2050.4033  , 2038.3065  , 2026.2097  ,\n",
       "        2014.1128  , 2002.0161  , 1989.9193  , 1977.8225  , 1965.7257  ,\n",
       "        1953.6289  , 1941.5322  , 1929.4355  , 1917.3387  , 1905.242   ,\n",
       "        1893.1451  , 1881.0483  , 1868.9517  , 1856.8549  , 1844.758   ,\n",
       "        1832.6613  , 1820.5645  , 1808.4678  , 1796.3711  , 1784.2743  ,\n",
       "        1772.1775  , 1760.0807  , 1747.9839  , 1735.8872  , 1723.7903  ,\n",
       "        1711.6935  , 1699.5967  , 1687.5     , 1675.4033  , 1663.3065  ,\n",
       "        1651.2097  , 1639.1128  , 1627.0161  , 1614.9193  , 1602.8225  ,\n",
       "        1590.7257  , 1578.6289  , 1566.5322  , 1554.4355  , 1542.3387  ,\n",
       "        1530.242   , 1518.1451  , 1506.0483  , 1500.      , 1500.      ,\n",
       "        1493.9517  , 1481.8549  , 1469.758   , 1457.6613  , 1445.5645  ,\n",
       "        1433.4678  , 1421.3711  , 1409.2743  , 1397.1775  , 1385.0807  ,\n",
       "        1372.9839  , 1360.8872  , 1348.7903  , 1336.6936  , 1324.5967  ,\n",
       "        1312.5     , 1300.4033  , 1288.3064  , 1276.2097  , 1264.1128  ,\n",
       "        1252.0161  , 1239.9193  , 1227.8225  , 1215.7258  , 1203.6289  ,\n",
       "        1191.5322  , 1179.4355  , 1167.3386  , 1155.242   , 1143.1451  ,\n",
       "        1131.0483  , 1118.9517  , 1106.8549  , 1094.758   , 1082.6614  ,\n",
       "        1070.5645  , 1058.4678  , 1046.3711  , 1034.2742  , 1022.17737 ,\n",
       "        1010.0807  ,  997.9839  ,  985.8871  ,  973.7903  ,  961.69354 ,\n",
       "         949.5968  ,  937.5     ,  925.4032  ,  913.30646 ,  901.2097  ,\n",
       "         889.1129  ,  877.0161  ,  864.9193  ,  852.8226  ,  840.7258  ,\n",
       "         828.629   ,  816.5322  ,  804.43555 ,  792.3387  ,  780.24194 ,\n",
       "         768.14514 ,  756.04834 ,  750.      ,  750.      ,  743.95166 ,\n",
       "         731.85486 ,  719.75806 ,  707.6613  ,  695.56445 ,  683.4678  ,\n",
       "         671.371   ,  659.2742  ,  647.1774  ,  635.0807  ,  622.9839  ,\n",
       "         610.8871  ,  598.7903  ,  586.69354 ,  574.5968  ,  562.5     ,\n",
       "         550.40326 ,  538.30646 ,  526.2097  ,  514.1129  ,  502.0161  ,\n",
       "         489.91937 ,  477.82257 ,  465.72583 ,  453.62903 ,  441.53223 ,\n",
       "         429.4355  ,  417.33868 ,  405.24194 ,  393.14514 ,  381.0484  ,\n",
       "         368.9516  ,  356.85486 ,  344.75806 ,  332.66132 ,  320.5645  ,\n",
       "         308.46777 ,  296.37097 ,  284.27417 ,  272.17743 ,  260.08063 ,\n",
       "         247.98386 ,  235.88712 ,  223.79034 ,  211.69354 ,  199.59677 ,\n",
       "         187.5     ,  175.40323 ,  163.30646 ,  151.20967 ,  139.1129  ,\n",
       "         127.01613 ,  114.91936 ,  102.822586,   90.72581 ,   78.629036,\n",
       "          66.53226 ,   54.435486,   42.33871 ,   30.241936,   18.14516 ,\n",
       "           6.048387,    0.      ]], dtype=float32)"
      ]
     },
     "execution_count": 38,
     "metadata": {},
     "output_type": "execute_result"
    }
   ],
   "source": [
    "position_y['pos_y']"
   ]
  },
  {
   "cell_type": "code",
   "execution_count": null,
   "metadata": {},
   "outputs": [],
   "source": [
    "from scipy.io import savemat\n",
    "\n",
    "savemat(\"inflow_ux.mat\", inflow_ux)\n",
    "savemat(\"inflow_uy.mat\", inflow_ux)"
   ]
  },
  {
   "cell_type": "code",
   "execution_count": null,
   "metadata": {},
   "outputs": [],
   "source": [
    "inflow_uy['n864pr']"
   ]
  },
  {
   "cell_type": "code",
   "execution_count": null,
   "metadata": {},
   "outputs": [],
   "source": [
    "y = np.arange(0, inflow_ux[case].shape[0])\n",
    "\n",
    "for c, inflow in zip(['x','y'], [inflow_ux, inflow_uy]):\n",
    "    fig, ax = plt.subplots(1,1)\n",
    "\n",
    "    for i, case in enumerate(inflow_uy.keys()):\n",
    "        ax.plot(inflow[case], y, c=f'C{i}')\n",
    "        ax.grid()\n",
    "\n",
    "\n",
    "    ax.set_xlabel('$ms^{-1}$')\n",
    "    ax.set_ylabel('cell points')\n",
    "    ax.set_title(f'Inflow velocity ($U_{c}$)')\n",
    "\n",
    "    fig.savefig(os.path.join('figures', f'inflow_u{c}.png'), facecolor='white', transparent=False, bbox_inches='tight', dpi=300)"
   ]
  },
  {
   "cell_type": "code",
   "execution_count": null,
   "metadata": {},
   "outputs": [],
   "source": []
  },
  {
   "cell_type": "code",
   "execution_count": null,
   "metadata": {},
   "outputs": [],
   "source": [
    "image[:, 0].shape"
   ]
  }
 ],
 "metadata": {
  "kernelspec": {
   "display_name": "Python 3.8.10 ('.venv_zz': venv)",
   "language": "python",
   "name": "python3"
  },
  "language_info": {
   "codemirror_mode": {
    "name": "ipython",
    "version": 3
   },
   "file_extension": ".py",
   "mimetype": "text/x-python",
   "name": "python",
   "nbconvert_exporter": "python",
   "pygments_lexer": "ipython3",
   "version": "3.8.10"
  },
  "orig_nbformat": 4,
  "vscode": {
   "interpreter": {
    "hash": "c6d40119d0502afce263ffa3e8c83c59312959a56ee6e0359c061891ea9c22c2"
   }
  }
 },
 "nbformat": 4,
 "nbformat_minor": 2
}
