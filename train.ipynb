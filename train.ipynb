{
 "cells": [
  {
   "attachments": {},
   "cell_type": "markdown",
   "metadata": {},
   "source": [
    "### import modules"
   ]
  },
  {
   "cell_type": "code",
   "execution_count": 14,
   "metadata": {},
   "outputs": [],
   "source": [
    "import logging\n",
    "import os\n",
    "import time\n",
    "\n",
    "from pytorch_lightning.callbacks import ModelCheckpoint, BatchSizeFinder\n",
    "from pytorch_lightning.loggers import NeptuneLogger, TensorBoardLogger\n",
    "import neptune.new as neptune\n",
    "import pytorch_lightning as pl\n",
    "import torch\n",
    "from pytorch_lightning.callbacks import RichProgressBar\n",
    "import yaml\n",
    "\n",
    "from src.data import dataset\n",
    "from src.utils import callbacks\n",
    "from src.wakegan import WakeGAN\n",
    "\n",
    "torch.set_float32_matmul_precision(\"medium\")"
   ]
  },
  {
   "attachments": {},
   "cell_type": "markdown",
   "metadata": {},
   "source": [
    "### import config file"
   ]
  },
  {
   "cell_type": "code",
   "execution_count": 15,
   "metadata": {},
   "outputs": [],
   "source": [
    "with open(\"config.yaml\") as file:\n",
    "    config = yaml.safe_load(file)"
   ]
  },
  {
   "attachments": {},
   "cell_type": "markdown",
   "metadata": {},
   "source": [
    "### initialize neptune client"
   ]
  },
  {
   "cell_type": "code",
   "execution_count": 16,
   "metadata": {},
   "outputs": [],
   "source": [
    "neptune_logger = None\n",
    "if config[\"ops\"][\"neptune_logger\"]:\n",
    "    neptune_logger = NeptuneLogger(\n",
    "        project=\"idatha/wakegan\",\n",
    "        api_key=\"eyJhcGlfYWRkcmVzcyI6Imh0dHBzOi8vYXBwLm5lcHR1bmUuYWkiLCJhcGlfdXJsIjoiaHR0cHM6Ly9hcHAubmVwdHVuZS5haSIsImFwaV9rZXkiOiIyNWQ5YjJjZi05OTE1LTRhNWEtODdlZC00MWRlMzMzNGMwMzYifQ==\",\n",
    "        log_model_checkpoints=False,\n",
    "    )"
   ]
  },
  {
   "attachments": {},
   "cell_type": "markdown",
   "metadata": {},
   "source": [
    "### add config content as hyperparameters in neptune"
   ]
  },
  {
   "cell_type": "code",
   "execution_count": 17,
   "metadata": {},
   "outputs": [
    {
     "name": "stdout",
     "output_type": "stream",
     "text": [
      "https://app.neptune.ai/idatha/wakegan/e/WAK-190\n",
      "Remember to stop your run once you’ve finished logging your metadata (https://docs.neptune.ai/api/run#stop). It will be stopped automatically only when the notebook kernel/interactive console is terminated.\n"
     ]
    }
   ],
   "source": [
    "if config[\"ops\"][\"neptune_logger\"]:\n",
    "    neptune_logger.log_hyperparams(params=config)"
   ]
  },
  {
   "attachments": {},
   "cell_type": "markdown",
   "metadata": {},
   "source": [
    "### config custom loggers"
   ]
  },
  {
   "cell_type": "code",
   "execution_count": 18,
   "metadata": {},
   "outputs": [],
   "source": [
    "tb_logger = TensorBoardLogger(save_dir=\"logs/\")\n",
    "if \"logs\" not in os.listdir(\".\"):\n",
    "    os.mkdir(\"logs\")\n",
    "logging.basicConfig(\n",
    "    format=\"%(message)s\",\n",
    "    filename=os.path.join(\"logs\", \"train.log\"),\n",
    "    level=logging.INFO,\n",
    "    filemode=\"w\",\n",
    ")\n",
    "logger = logging.getLogger(\"train\")\n",
    "loggers = (\n",
    "    [tb_logger, neptune_logger] if config[\"ops\"][\"neptune_logger\"] else [tb_logger]\n",
    ")"
   ]
  },
  {
   "attachments": {},
   "cell_type": "markdown",
   "metadata": {},
   "source": [
    "### configure checkpoint model saving"
   ]
  },
  {
   "cell_type": "code",
   "execution_count": 19,
   "metadata": {},
   "outputs": [],
   "source": [
    "checkpoint_callback = ModelCheckpoint(\n",
    "    dirpath=None,\n",
    "    save_top_k=1,\n",
    "    monitor=\"rmse_val_epoch\",\n",
    "    mode=\"min\",\n",
    "    filename=\"wakegan-{epoch}-{rmse_val_epoch:.2f}\",\n",
    ")"
   ]
  },
  {
   "attachments": {},
   "cell_type": "markdown",
   "metadata": {},
   "source": [
    "### initialize training dataset"
   ]
  },
  {
   "cell_type": "code",
   "execution_count": 20,
   "metadata": {},
   "outputs": [],
   "source": [
    "dataset_train = dataset.WakeGANDataset(\n",
    "    data_dir=os.path.join(\"data\", \"preprocessed\", \"tracked\", \"train\"),\n",
    "    config=config[\"data\"],\n",
    "    dataset_type=\"train\",\n",
    "    save_norm_params=True if config[\"models\"][\"save\"] else False,\n",
    ")\n",
    "datamodule = dataset.WakeGANDataModule(config)"
   ]
  },
  {
   "attachments": {},
   "cell_type": "markdown",
   "metadata": {},
   "source": [
    "### initialize model"
   ]
  },
  {
   "cell_type": "code",
   "execution_count": 21,
   "metadata": {},
   "outputs": [],
   "source": [
    "model = WakeGAN(config, dataset_train.norm_params)"
   ]
  },
  {
   "attachments": {},
   "cell_type": "markdown",
   "metadata": {},
   "source": [
    "### initialize trainer"
   ]
  },
  {
   "cell_type": "code",
   "execution_count": 22,
   "metadata": {},
   "outputs": [
    {
     "name": "stderr",
     "output_type": "stream",
     "text": [
      "GPU available: True (cuda), used: True\n",
      "TPU available: False, using: 0 TPU cores\n",
      "IPU available: False, using: 0 IPUs\n",
      "HPU available: False, using: 0 HPUs\n"
     ]
    }
   ],
   "source": [
    "trainer = pl.Trainer(\n",
    "    default_root_dir=\"logs\",\n",
    "    accelerator=\"gpu\",\n",
    "    devices=1,\n",
    "    log_every_n_steps=1,\n",
    "    max_epochs=config[\"train\"][\"num_epochs\"],\n",
    "    logger=loggers,\n",
    "    deterministic=True,\n",
    "    callbacks=[\n",
    "        callbacks.LoggingCallback(logger),\n",
    "        callbacks.PlottingCallback(enable_logger=config[\"ops\"][\"neptune_logger\"]),\n",
    "        checkpoint_callback,\n",
    "        RichProgressBar()\n",
    "    ],\n",
    ")"
   ]
  },
  {
   "attachments": {},
   "cell_type": "markdown",
   "metadata": {},
   "source": [
    "### fit model"
   ]
  },
  {
   "cell_type": "code",
   "execution_count": 23,
   "metadata": {},
   "outputs": [
    {
     "name": "stderr",
     "output_type": "stream",
     "text": [
      "LOCAL_RANK: 0 - CUDA_VISIBLE_DEVICES: [0]\n"
     ]
    },
    {
     "data": {
      "text/html": [
       "<pre style=\"white-space:pre;overflow-x:auto;line-height:normal;font-family:Menlo,'DejaVu Sans Mono',consolas,'Courier New',monospace\">┏━━━┳━━━━━━━━━━━━━━━┳━━━━━━━━━━━━━━━━━━━━━━━━━━┳━━━━━━━━┓\n",
       "┃<span style=\"color: #800080; text-decoration-color: #800080; font-weight: bold\">   </span>┃<span style=\"color: #800080; text-decoration-color: #800080; font-weight: bold\"> Name          </span>┃<span style=\"color: #800080; text-decoration-color: #800080; font-weight: bold\"> Type                     </span>┃<span style=\"color: #800080; text-decoration-color: #800080; font-weight: bold\"> Params </span>┃\n",
       "┡━━━╇━━━━━━━━━━━━━━━╇━━━━━━━━━━━━━━━━━━━━━━━━━━╇━━━━━━━━┩\n",
       "│<span style=\"color: #7f7f7f; text-decoration-color: #7f7f7f\"> 0 </span>│ generator     │ Generator                │  9.7 M │\n",
       "│<span style=\"color: #7f7f7f; text-decoration-color: #7f7f7f\"> 1 </span>│ discriminator │ Discriminator            │  940 K │\n",
       "│<span style=\"color: #7f7f7f; text-decoration-color: #7f7f7f\"> 2 </span>│ mse_train     │ MeanSquaredError         │      0 │\n",
       "│<span style=\"color: #7f7f7f; text-decoration-color: #7f7f7f\"> 3 </span>│ mse_val       │ MeanSquaredError         │      0 │\n",
       "│<span style=\"color: #7f7f7f; text-decoration-color: #7f7f7f\"> 4 </span>│ mse_test      │ MeanSquaredError         │      0 │\n",
       "│<span style=\"color: #7f7f7f; text-decoration-color: #7f7f7f\"> 5 </span>│ fid_train     │ FrechetInceptionDistance │ 23.9 M │\n",
       "│<span style=\"color: #7f7f7f; text-decoration-color: #7f7f7f\"> 6 </span>│ fid_val       │ FrechetInceptionDistance │ 23.9 M │\n",
       "│<span style=\"color: #7f7f7f; text-decoration-color: #7f7f7f\"> 7 </span>│ fid_test      │ FrechetInceptionDistance │ 23.9 M │\n",
       "└───┴───────────────┴──────────────────────────┴────────┘\n",
       "</pre>\n"
      ],
      "text/plain": [
       "┏━━━┳━━━━━━━━━━━━━━━┳━━━━━━━━━━━━━━━━━━━━━━━━━━┳━━━━━━━━┓\n",
       "┃\u001b[1;35m \u001b[0m\u001b[1;35m \u001b[0m\u001b[1;35m \u001b[0m┃\u001b[1;35m \u001b[0m\u001b[1;35mName         \u001b[0m\u001b[1;35m \u001b[0m┃\u001b[1;35m \u001b[0m\u001b[1;35mType                    \u001b[0m\u001b[1;35m \u001b[0m┃\u001b[1;35m \u001b[0m\u001b[1;35mParams\u001b[0m\u001b[1;35m \u001b[0m┃\n",
       "┡━━━╇━━━━━━━━━━━━━━━╇━━━━━━━━━━━━━━━━━━━━━━━━━━╇━━━━━━━━┩\n",
       "│\u001b[2m \u001b[0m\u001b[2m0\u001b[0m\u001b[2m \u001b[0m│ generator     │ Generator                │  9.7 M │\n",
       "│\u001b[2m \u001b[0m\u001b[2m1\u001b[0m\u001b[2m \u001b[0m│ discriminator │ Discriminator            │  940 K │\n",
       "│\u001b[2m \u001b[0m\u001b[2m2\u001b[0m\u001b[2m \u001b[0m│ mse_train     │ MeanSquaredError         │      0 │\n",
       "│\u001b[2m \u001b[0m\u001b[2m3\u001b[0m\u001b[2m \u001b[0m│ mse_val       │ MeanSquaredError         │      0 │\n",
       "│\u001b[2m \u001b[0m\u001b[2m4\u001b[0m\u001b[2m \u001b[0m│ mse_test      │ MeanSquaredError         │      0 │\n",
       "│\u001b[2m \u001b[0m\u001b[2m5\u001b[0m\u001b[2m \u001b[0m│ fid_train     │ FrechetInceptionDistance │ 23.9 M │\n",
       "│\u001b[2m \u001b[0m\u001b[2m6\u001b[0m\u001b[2m \u001b[0m│ fid_val       │ FrechetInceptionDistance │ 23.9 M │\n",
       "│\u001b[2m \u001b[0m\u001b[2m7\u001b[0m\u001b[2m \u001b[0m│ fid_test      │ FrechetInceptionDistance │ 23.9 M │\n",
       "└───┴───────────────┴──────────────────────────┴────────┘\n"
      ]
     },
     "metadata": {},
     "output_type": "display_data"
    },
    {
     "data": {
      "text/html": [
       "<pre style=\"white-space:pre;overflow-x:auto;line-height:normal;font-family:Menlo,'DejaVu Sans Mono',consolas,'Courier New',monospace\"><span style=\"font-weight: bold\">Trainable params</span>: 10.7 M                                                                                           \n",
       "<span style=\"font-weight: bold\">Non-trainable params</span>: 71.6 M                                                                                       \n",
       "<span style=\"font-weight: bold\">Total params</span>: 82.2 M                                                                                               \n",
       "<span style=\"font-weight: bold\">Total estimated model params size (MB)</span>: 328                                                                        \n",
       "</pre>\n"
      ],
      "text/plain": [
       "\u001b[1mTrainable params\u001b[0m: 10.7 M                                                                                           \n",
       "\u001b[1mNon-trainable params\u001b[0m: 71.6 M                                                                                       \n",
       "\u001b[1mTotal params\u001b[0m: 82.2 M                                                                                               \n",
       "\u001b[1mTotal estimated model params size (MB)\u001b[0m: 328                                                                        \n"
      ]
     },
     "metadata": {},
     "output_type": "display_data"
    },
    {
     "data": {
      "application/vnd.jupyter.widget-view+json": {
       "model_id": "1b63073024b84d3aa76eda787ffcc88a",
       "version_major": 2,
       "version_minor": 0
      },
      "text/plain": [
       "Output()"
      ]
     },
     "metadata": {},
     "output_type": "display_data"
    }
   ],
   "source": [
    "trainer.fit(model, datamodule)\n",
    "neptune_logger.run.stop()"
   ]
  },
  {
   "attachments": {},
   "cell_type": "markdown",
   "metadata": {},
   "source": [
    "### save new model version (best checkpoint) to neptune"
   ]
  },
  {
   "cell_type": "code",
   "execution_count": null,
   "metadata": {},
   "outputs": [],
   "source": [
    "if config[\"ops\"][\"neptune_logger\"] and config[\"models\"][\"save\"]:\n",
    "    logger.info(\"Saving model in neptune\")\n",
    "\n",
    "    model_version = neptune.init_model_version(\n",
    "        model=\"WAK-MOD\",\n",
    "        project=\"idatha/wakegan\",\n",
    "        api_token=\"eyJhcGlfYWRkcmVzcyI6Imh0dHBzOi8vYXBwLm5lcHR1bmUuYWkiLCJhcGlfdXJsIjoiaHR0cHM6Ly9hcHAubmVwdHVuZS5haSIsImFwaV9rZXkiOiIyNWQ5YjJjZi05OTE1LTRhNWEtODdlZC00MWRlMzMzNGMwMzYifQ==\",  # your credentials\n",
    "    )\n",
    "    path_to_model = trainer.checkpoint_callback.best_model_path\n",
    "    model_version[\"model/ckpt\"].upload(path_to_model)\n",
    "    model_version[\"model/dataset/training\"].track_files(\n",
    "        os.path.join(\"data\", \"preprocessed\", \"tracked\", \"train\", \"ux\")\n",
    "    )\n",
    "    model_version[\"model/dataset/validation\"].track_files(\n",
    "        os.path.join(\"data\", \"preprocessed\", \"tracked\", \"val\", \"ux\")\n",
    "    )\n",
    "    model_version[\"model/dataset/testing\"].track_files(\n",
    "        os.path.join(\"data\", \"preprocessed\", \"tracked\", \"test\", \"ux\")\n",
    "    )\n",
    "    model_version[\"model/run\"] = neptune_logger.run[\"sys/id\"].fetch()\n",
    "    model_version.change_stage(\"staging\")"
   ]
  }
 ],
 "metadata": {
  "kernelspec": {
   "display_name": ".venv_wakegan",
   "language": "python",
   "name": "python3"
  },
  "language_info": {
   "codemirror_mode": {
    "name": "ipython",
    "version": 3
   },
   "file_extension": ".py",
   "mimetype": "text/x-python",
   "name": "python",
   "nbconvert_exporter": "python",
   "pygments_lexer": "ipython3",
   "version": "3.10.6"
  },
  "orig_nbformat": 4,
  "vscode": {
   "interpreter": {
    "hash": "e95fdbd9e48422759f48be43fce7a3ef8b980f6105fc0b6a35602137e1eef081"
   }
  }
 },
 "nbformat": 4,
 "nbformat_minor": 2
}
